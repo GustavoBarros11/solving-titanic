{
 "cells": [
  {
   "cell_type": "markdown",
   "id": "ff8f7459",
   "metadata": {
    "papermill": {
     "duration": 0.042272,
     "end_time": "2022-04-14T00:38:39.051185",
     "exception": false,
     "start_time": "2022-04-14T00:38:39.008913",
     "status": "completed"
    },
    "tags": []
   },
   "source": [
    "# **The Challenge in Python**"
   ]
  },
  {
   "cell_type": "markdown",
   "id": "7cc8c136",
   "metadata": {
    "papermill": {
     "duration": 0.040713,
     "end_time": "2022-04-14T00:38:39.137369",
     "exception": false,
     "start_time": "2022-04-14T00:38:39.096656",
     "status": "completed"
    },
    "tags": []
   },
   "source": [
    "This project was initially written as a submission for the \"[Titanic: Machine Learning from Disaster](https://www.kaggle.com/competitions/titanic)\" Competition. This challenge called for participants to predict whether a passenger on the titanic would survive or not. The Titanic dataset provided a diverse amount of information about passengers such as economic status, sex, age, survival and more.  \n",
    "  \n",
    "  This project will display a full walkthrough of the procress of creating a machine learning model, data exploration, data cleaning and analysis through various classification methods.\n",
    "* Logistics Regression\n",
    "* Random Forest\n",
    "* Decision Tree\n",
    "* K Nearest Neighbor"
   ]
  },
  {
   "cell_type": "code",
   "execution_count": 1,
   "id": "b0a8559a",
   "metadata": {
    "execution": {
     "iopub.execute_input": "2022-04-14T00:38:39.227077Z",
     "iopub.status.busy": "2022-04-14T00:38:39.225869Z",
     "iopub.status.idle": "2022-04-14T00:38:40.783845Z",
     "shell.execute_reply": "2022-04-14T00:38:40.783133Z",
     "shell.execute_reply.started": "2022-04-14T00:34:10.447963Z"
    },
    "papermill": {
     "duration": 1.603964,
     "end_time": "2022-04-14T00:38:40.784034",
     "exception": false,
     "start_time": "2022-04-14T00:38:39.180070",
     "status": "completed"
    },
    "tags": []
   },
   "outputs": [],
   "source": [
    "import numpy as np # linear algebra\n",
    "import pandas as pd # data processing, CSV file I/O (e.g. pd.read_csv)\n",
    "import seaborn as sns # data visualization\n",
    "%matplotlib inline\n",
    "from matplotlib import pyplot as plt\n",
    "from matplotlib import style\n",
    "\n",
    "#packages for Algorithms\n",
    "from sklearn import linear_model\n",
    "from sklearn.linear_model import LogisticRegression\n",
    "from sklearn.ensemble import RandomForestClassifier\n",
    "from sklearn.tree import DecisionTreeClassifier\n",
    "from sklearn.neighbors import KNeighborsClassifier"
   ]
  },
  {
   "cell_type": "markdown",
   "id": "2ecfe2bc",
   "metadata": {
    "papermill": {
     "duration": 0.039551,
     "end_time": "2022-04-14T00:38:40.864420",
     "exception": false,
     "start_time": "2022-04-14T00:38:40.824869",
     "status": "completed"
    },
    "tags": []
   },
   "source": [
    "## Importing Data \n",
    "  \n",
    "  The data referenced below and used throughout this project is sources directly from [\"*Titanic: Machine Learning from Disaster*\"](https://www.kaggle.com/competitions/titanic/data)"
   ]
  },
  {
   "cell_type": "code",
   "execution_count": 2,
   "id": "6484dc86",
   "metadata": {
    "execution": {
     "iopub.execute_input": "2022-04-14T00:38:40.951879Z",
     "iopub.status.busy": "2022-04-14T00:38:40.950818Z",
     "iopub.status.idle": "2022-04-14T00:38:40.981962Z",
     "shell.execute_reply": "2022-04-14T00:38:40.981258Z",
     "shell.execute_reply.started": "2022-04-14T00:34:10.459807Z"
    },
    "papermill": {
     "duration": 0.076356,
     "end_time": "2022-04-14T00:38:40.982122",
     "exception": false,
     "start_time": "2022-04-14T00:38:40.905766",
     "status": "completed"
    },
    "tags": []
   },
   "outputs": [],
   "source": [
    "train_df = pd.read_csv('../input/titanic/train.csv')\n",
    "test_df = pd.read_csv('../input/titanic/test.csv')\n",
    "combine = [train_df, test_df]"
   ]
  },
  {
   "cell_type": "markdown",
   "id": "ab9db2e3",
   "metadata": {
    "papermill": {
     "duration": 0.040393,
     "end_time": "2022-04-14T00:38:41.063932",
     "exception": false,
     "start_time": "2022-04-14T00:38:41.023539",
     "status": "completed"
    },
    "tags": []
   },
   "source": [
    "# Data Exploration \n",
    "  \n",
    "I started the data exploration process by trying to answer the following questions to become more familiar with the data types and quantity of data.\n",
    "1. Which features are listed in the dataset?\n",
    "2. Which features are categorical or numerical?\n",
    "3. Which features include mixed data types?\n",
    "4. Which features may contain errors, typos or missing data?"
   ]
  },
  {
   "cell_type": "markdown",
   "id": "0851af39",
   "metadata": {
    "papermill": {
     "duration": 0.03905,
     "end_time": "2022-04-14T00:38:41.143045",
     "exception": false,
     "start_time": "2022-04-14T00:38:41.103995",
     "status": "completed"
    },
    "tags": []
   },
   "source": [
    "### The Features  \n",
    "  \n",
    "  1. **Which features are listed in the data set?**  \n",
    "    \n",
    "    PassengerID, Survived, Pclass, Name, Sex, Age, Sibsp, Parch, Ticket, Fare, Cabin and Embarked. This was discovered through the process below."
   ]
  },
  {
   "cell_type": "code",
   "execution_count": 3,
   "id": "6c5350d3",
   "metadata": {
    "execution": {
     "iopub.execute_input": "2022-04-14T00:38:41.231068Z",
     "iopub.status.busy": "2022-04-14T00:38:41.230254Z",
     "iopub.status.idle": "2022-04-14T00:38:41.233910Z",
     "shell.execute_reply": "2022-04-14T00:38:41.234471Z",
     "shell.execute_reply.started": "2022-04-14T00:34:10.490753Z"
    },
    "papermill": {
     "duration": 0.048985,
     "end_time": "2022-04-14T00:38:41.234647",
     "exception": false,
     "start_time": "2022-04-14T00:38:41.185662",
     "status": "completed"
    },
    "tags": []
   },
   "outputs": [
    {
     "name": "stdout",
     "output_type": "stream",
     "text": [
      "['PassengerId' 'Survived' 'Pclass' 'Name' 'Sex' 'Age' 'SibSp' 'Parch'\n",
      " 'Ticket' 'Fare' 'Cabin' 'Embarked']\n"
     ]
    }
   ],
   "source": [
    "print(train_df.columns.values)"
   ]
  },
  {
   "cell_type": "markdown",
   "id": "337c897e",
   "metadata": {
    "papermill": {
     "duration": 0.040676,
     "end_time": "2022-04-14T00:38:41.315646",
     "exception": false,
     "start_time": "2022-04-14T00:38:41.274970",
     "status": "completed"
    },
    "tags": []
   },
   "source": [
    "2. **Which features are categorical or numerical?**  \n",
    "  \n",
    "  Previewing the data found a few different data types in each feature. The data types included are defined as follows. [Catergorical data](http://www.stat.yale.edu/Courses/1997-98/101/catdat.htm) is defined as a variable that can take one of a limited, usually fixed, number of possible values. [Ordinal data](https://www.scribbr.com/statistics/ordinal-data/) is a type of categorical data but it refers to a type of data that can be ranked in a natural order . [Continuous data](https://www.isixsigma.com/dictionary/continuous-data/) is a type of numerical data that be measured on an infinate scale. [Discrete data](https://www.thedrum.com/profile/whatagraph/news/discrete-vs-continuous-data-whats-the-difference) is a data type that involves integers and a limited number of values possible.  \n",
    "    \n",
    "    * Categorical: Survived, Sex and Embarked\n",
    "    * Ordinal: Pclass\n",
    "    *Continous: Age, Fare\n",
    "    *Discrete: SibSp, Parch"
   ]
  },
  {
   "cell_type": "code",
   "execution_count": 4,
   "id": "bdc69824",
   "metadata": {
    "execution": {
     "iopub.execute_input": "2022-04-14T00:38:41.403840Z",
     "iopub.status.busy": "2022-04-14T00:38:41.403107Z",
     "iopub.status.idle": "2022-04-14T00:38:41.421838Z",
     "shell.execute_reply": "2022-04-14T00:38:41.422373Z",
     "shell.execute_reply.started": "2022-04-14T00:34:10.497481Z"
    },
    "papermill": {
     "duration": 0.06716,
     "end_time": "2022-04-14T00:38:41.422550",
     "exception": false,
     "start_time": "2022-04-14T00:38:41.355390",
     "status": "completed"
    },
    "tags": []
   },
   "outputs": [
    {
     "data": {
      "text/html": [
       "<div>\n",
       "<style scoped>\n",
       "    .dataframe tbody tr th:only-of-type {\n",
       "        vertical-align: middle;\n",
       "    }\n",
       "\n",
       "    .dataframe tbody tr th {\n",
       "        vertical-align: top;\n",
       "    }\n",
       "\n",
       "    .dataframe thead th {\n",
       "        text-align: right;\n",
       "    }\n",
       "</style>\n",
       "<table border=\"1\" class=\"dataframe\">\n",
       "  <thead>\n",
       "    <tr style=\"text-align: right;\">\n",
       "      <th></th>\n",
       "      <th>PassengerId</th>\n",
       "      <th>Survived</th>\n",
       "      <th>Pclass</th>\n",
       "      <th>Name</th>\n",
       "      <th>Sex</th>\n",
       "      <th>Age</th>\n",
       "      <th>SibSp</th>\n",
       "      <th>Parch</th>\n",
       "      <th>Ticket</th>\n",
       "      <th>Fare</th>\n",
       "      <th>Cabin</th>\n",
       "      <th>Embarked</th>\n",
       "    </tr>\n",
       "  </thead>\n",
       "  <tbody>\n",
       "    <tr>\n",
       "      <th>0</th>\n",
       "      <td>1</td>\n",
       "      <td>0</td>\n",
       "      <td>3</td>\n",
       "      <td>Braund, Mr. Owen Harris</td>\n",
       "      <td>male</td>\n",
       "      <td>22.0</td>\n",
       "      <td>1</td>\n",
       "      <td>0</td>\n",
       "      <td>A/5 21171</td>\n",
       "      <td>7.2500</td>\n",
       "      <td>NaN</td>\n",
       "      <td>S</td>\n",
       "    </tr>\n",
       "    <tr>\n",
       "      <th>1</th>\n",
       "      <td>2</td>\n",
       "      <td>1</td>\n",
       "      <td>1</td>\n",
       "      <td>Cumings, Mrs. John Bradley (Florence Briggs Th...</td>\n",
       "      <td>female</td>\n",
       "      <td>38.0</td>\n",
       "      <td>1</td>\n",
       "      <td>0</td>\n",
       "      <td>PC 17599</td>\n",
       "      <td>71.2833</td>\n",
       "      <td>C85</td>\n",
       "      <td>C</td>\n",
       "    </tr>\n",
       "    <tr>\n",
       "      <th>2</th>\n",
       "      <td>3</td>\n",
       "      <td>1</td>\n",
       "      <td>3</td>\n",
       "      <td>Heikkinen, Miss. Laina</td>\n",
       "      <td>female</td>\n",
       "      <td>26.0</td>\n",
       "      <td>0</td>\n",
       "      <td>0</td>\n",
       "      <td>STON/O2. 3101282</td>\n",
       "      <td>7.9250</td>\n",
       "      <td>NaN</td>\n",
       "      <td>S</td>\n",
       "    </tr>\n",
       "    <tr>\n",
       "      <th>3</th>\n",
       "      <td>4</td>\n",
       "      <td>1</td>\n",
       "      <td>1</td>\n",
       "      <td>Futrelle, Mrs. Jacques Heath (Lily May Peel)</td>\n",
       "      <td>female</td>\n",
       "      <td>35.0</td>\n",
       "      <td>1</td>\n",
       "      <td>0</td>\n",
       "      <td>113803</td>\n",
       "      <td>53.1000</td>\n",
       "      <td>C123</td>\n",
       "      <td>S</td>\n",
       "    </tr>\n",
       "    <tr>\n",
       "      <th>4</th>\n",
       "      <td>5</td>\n",
       "      <td>0</td>\n",
       "      <td>3</td>\n",
       "      <td>Allen, Mr. William Henry</td>\n",
       "      <td>male</td>\n",
       "      <td>35.0</td>\n",
       "      <td>0</td>\n",
       "      <td>0</td>\n",
       "      <td>373450</td>\n",
       "      <td>8.0500</td>\n",
       "      <td>NaN</td>\n",
       "      <td>S</td>\n",
       "    </tr>\n",
       "  </tbody>\n",
       "</table>\n",
       "</div>"
      ],
      "text/plain": [
       "   PassengerId  Survived  Pclass  \\\n",
       "0            1         0       3   \n",
       "1            2         1       1   \n",
       "2            3         1       3   \n",
       "3            4         1       1   \n",
       "4            5         0       3   \n",
       "\n",
       "                                                Name     Sex   Age  SibSp  \\\n",
       "0                            Braund, Mr. Owen Harris    male  22.0      1   \n",
       "1  Cumings, Mrs. John Bradley (Florence Briggs Th...  female  38.0      1   \n",
       "2                             Heikkinen, Miss. Laina  female  26.0      0   \n",
       "3       Futrelle, Mrs. Jacques Heath (Lily May Peel)  female  35.0      1   \n",
       "4                           Allen, Mr. William Henry    male  35.0      0   \n",
       "\n",
       "   Parch            Ticket     Fare Cabin Embarked  \n",
       "0      0         A/5 21171   7.2500   NaN        S  \n",
       "1      0          PC 17599  71.2833   C85        C  \n",
       "2      0  STON/O2. 3101282   7.9250   NaN        S  \n",
       "3      0            113803  53.1000  C123        S  \n",
       "4      0            373450   8.0500   NaN        S  "
      ]
     },
     "execution_count": 4,
     "metadata": {},
     "output_type": "execute_result"
    }
   ],
   "source": [
    "#Previewing the data to determine data types and column headers.\n",
    "#The head command is used to output the first part of the file.\n",
    "train_df.head()"
   ]
  },
  {
   "cell_type": "markdown",
   "id": "05769296",
   "metadata": {
    "papermill": {
     "duration": 0.039681,
     "end_time": "2022-04-14T00:38:41.503962",
     "exception": false,
     "start_time": "2022-04-14T00:38:41.464281",
     "status": "completed"
    },
    "tags": []
   },
   "source": [
    "3. **Which features include mixed data types?**  \n",
    "  \n",
    "  Ticket and Cabin have mixed data types  \n",
    "    \n",
    "4. **Which features may contain errors, typos or missing data?**  \n",
    "  \n",
    "  This will be determined throughout the data cleaning and exploration process as it is more difficult to determine during prelimiary looks. "
   ]
  },
  {
   "cell_type": "code",
   "execution_count": 5,
   "id": "8f62dc2c",
   "metadata": {
    "execution": {
     "iopub.execute_input": "2022-04-14T00:38:41.601415Z",
     "iopub.status.busy": "2022-04-14T00:38:41.600689Z",
     "iopub.status.idle": "2022-04-14T00:38:41.604900Z",
     "shell.execute_reply": "2022-04-14T00:38:41.604255Z",
     "shell.execute_reply.started": "2022-04-14T00:34:10.524588Z"
    },
    "papermill": {
     "duration": 0.060229,
     "end_time": "2022-04-14T00:38:41.605044",
     "exception": false,
     "start_time": "2022-04-14T00:38:41.544815",
     "status": "completed"
    },
    "tags": []
   },
   "outputs": [
    {
     "data": {
      "text/html": [
       "<div>\n",
       "<style scoped>\n",
       "    .dataframe tbody tr th:only-of-type {\n",
       "        vertical-align: middle;\n",
       "    }\n",
       "\n",
       "    .dataframe tbody tr th {\n",
       "        vertical-align: top;\n",
       "    }\n",
       "\n",
       "    .dataframe thead th {\n",
       "        text-align: right;\n",
       "    }\n",
       "</style>\n",
       "<table border=\"1\" class=\"dataframe\">\n",
       "  <thead>\n",
       "    <tr style=\"text-align: right;\">\n",
       "      <th></th>\n",
       "      <th>PassengerId</th>\n",
       "      <th>Survived</th>\n",
       "      <th>Pclass</th>\n",
       "      <th>Name</th>\n",
       "      <th>Sex</th>\n",
       "      <th>Age</th>\n",
       "      <th>SibSp</th>\n",
       "      <th>Parch</th>\n",
       "      <th>Ticket</th>\n",
       "      <th>Fare</th>\n",
       "      <th>Cabin</th>\n",
       "      <th>Embarked</th>\n",
       "    </tr>\n",
       "  </thead>\n",
       "  <tbody>\n",
       "    <tr>\n",
       "      <th>886</th>\n",
       "      <td>887</td>\n",
       "      <td>0</td>\n",
       "      <td>2</td>\n",
       "      <td>Montvila, Rev. Juozas</td>\n",
       "      <td>male</td>\n",
       "      <td>27.0</td>\n",
       "      <td>0</td>\n",
       "      <td>0</td>\n",
       "      <td>211536</td>\n",
       "      <td>13.00</td>\n",
       "      <td>NaN</td>\n",
       "      <td>S</td>\n",
       "    </tr>\n",
       "    <tr>\n",
       "      <th>887</th>\n",
       "      <td>888</td>\n",
       "      <td>1</td>\n",
       "      <td>1</td>\n",
       "      <td>Graham, Miss. Margaret Edith</td>\n",
       "      <td>female</td>\n",
       "      <td>19.0</td>\n",
       "      <td>0</td>\n",
       "      <td>0</td>\n",
       "      <td>112053</td>\n",
       "      <td>30.00</td>\n",
       "      <td>B42</td>\n",
       "      <td>S</td>\n",
       "    </tr>\n",
       "    <tr>\n",
       "      <th>888</th>\n",
       "      <td>889</td>\n",
       "      <td>0</td>\n",
       "      <td>3</td>\n",
       "      <td>Johnston, Miss. Catherine Helen \"Carrie\"</td>\n",
       "      <td>female</td>\n",
       "      <td>NaN</td>\n",
       "      <td>1</td>\n",
       "      <td>2</td>\n",
       "      <td>W./C. 6607</td>\n",
       "      <td>23.45</td>\n",
       "      <td>NaN</td>\n",
       "      <td>S</td>\n",
       "    </tr>\n",
       "    <tr>\n",
       "      <th>889</th>\n",
       "      <td>890</td>\n",
       "      <td>1</td>\n",
       "      <td>1</td>\n",
       "      <td>Behr, Mr. Karl Howell</td>\n",
       "      <td>male</td>\n",
       "      <td>26.0</td>\n",
       "      <td>0</td>\n",
       "      <td>0</td>\n",
       "      <td>111369</td>\n",
       "      <td>30.00</td>\n",
       "      <td>C148</td>\n",
       "      <td>C</td>\n",
       "    </tr>\n",
       "    <tr>\n",
       "      <th>890</th>\n",
       "      <td>891</td>\n",
       "      <td>0</td>\n",
       "      <td>3</td>\n",
       "      <td>Dooley, Mr. Patrick</td>\n",
       "      <td>male</td>\n",
       "      <td>32.0</td>\n",
       "      <td>0</td>\n",
       "      <td>0</td>\n",
       "      <td>370376</td>\n",
       "      <td>7.75</td>\n",
       "      <td>NaN</td>\n",
       "      <td>Q</td>\n",
       "    </tr>\n",
       "  </tbody>\n",
       "</table>\n",
       "</div>"
      ],
      "text/plain": [
       "     PassengerId  Survived  Pclass                                      Name  \\\n",
       "886          887         0       2                     Montvila, Rev. Juozas   \n",
       "887          888         1       1              Graham, Miss. Margaret Edith   \n",
       "888          889         0       3  Johnston, Miss. Catherine Helen \"Carrie\"   \n",
       "889          890         1       1                     Behr, Mr. Karl Howell   \n",
       "890          891         0       3                       Dooley, Mr. Patrick   \n",
       "\n",
       "        Sex   Age  SibSp  Parch      Ticket   Fare Cabin Embarked  \n",
       "886    male  27.0      0      0      211536  13.00   NaN        S  \n",
       "887  female  19.0      0      0      112053  30.00   B42        S  \n",
       "888  female   NaN      1      2  W./C. 6607  23.45   NaN        S  \n",
       "889    male  26.0      0      0      111369  30.00  C148        C  \n",
       "890    male  32.0      0      0      370376   7.75   NaN        Q  "
      ]
     },
     "execution_count": 5,
     "metadata": {},
     "output_type": "execute_result"
    }
   ],
   "source": [
    "#Previewing data continued\n",
    "#The tail command will output of last part of the file.\n",
    "train_df.tail()"
   ]
  },
  {
   "cell_type": "code",
   "execution_count": 6,
   "id": "d1a980af",
   "metadata": {
    "execution": {
     "iopub.execute_input": "2022-04-14T00:38:41.703105Z",
     "iopub.status.busy": "2022-04-14T00:38:41.702412Z",
     "iopub.status.idle": "2022-04-14T00:38:41.726854Z",
     "shell.execute_reply": "2022-04-14T00:38:41.725927Z",
     "shell.execute_reply.started": "2022-04-14T00:34:45.950380Z"
    },
    "papermill": {
     "duration": 0.080842,
     "end_time": "2022-04-14T00:38:41.727050",
     "exception": false,
     "start_time": "2022-04-14T00:38:41.646208",
     "status": "completed"
    },
    "tags": []
   },
   "outputs": [
    {
     "name": "stdout",
     "output_type": "stream",
     "text": [
      "<class 'pandas.core.frame.DataFrame'>\n",
      "RangeIndex: 891 entries, 0 to 890\n",
      "Data columns (total 12 columns):\n",
      " #   Column       Non-Null Count  Dtype  \n",
      "---  ------       --------------  -----  \n",
      " 0   PassengerId  891 non-null    int64  \n",
      " 1   Survived     891 non-null    int64  \n",
      " 2   Pclass       891 non-null    int64  \n",
      " 3   Name         891 non-null    object \n",
      " 4   Sex          891 non-null    object \n",
      " 5   Age          714 non-null    float64\n",
      " 6   SibSp        891 non-null    int64  \n",
      " 7   Parch        891 non-null    int64  \n",
      " 8   Ticket       891 non-null    object \n",
      " 9   Fare         891 non-null    float64\n",
      " 10  Cabin        204 non-null    object \n",
      " 11  Embarked     889 non-null    object \n",
      "dtypes: float64(2), int64(5), object(5)\n",
      "memory usage: 83.7+ KB\n",
      "__________\n",
      "<class 'pandas.core.frame.DataFrame'>\n",
      "RangeIndex: 418 entries, 0 to 417\n",
      "Data columns (total 11 columns):\n",
      " #   Column       Non-Null Count  Dtype  \n",
      "---  ------       --------------  -----  \n",
      " 0   PassengerId  418 non-null    int64  \n",
      " 1   Pclass       418 non-null    int64  \n",
      " 2   Name         418 non-null    object \n",
      " 3   Sex          418 non-null    object \n",
      " 4   Age          332 non-null    float64\n",
      " 5   SibSp        418 non-null    int64  \n",
      " 6   Parch        418 non-null    int64  \n",
      " 7   Ticket       418 non-null    object \n",
      " 8   Fare         417 non-null    float64\n",
      " 9   Cabin        91 non-null     object \n",
      " 10  Embarked     418 non-null    object \n",
      "dtypes: float64(2), int64(4), object(5)\n",
      "memory usage: 36.0+ KB\n"
     ]
    }
   ],
   "source": [
    "#display nulls in data within range\n",
    "train_df.info()\n",
    "print('_'*10)\n",
    "test_df.info()"
   ]
  },
  {
   "cell_type": "code",
   "execution_count": 7,
   "id": "cba42a64",
   "metadata": {
    "execution": {
     "iopub.execute_input": "2022-04-14T00:38:41.823351Z",
     "iopub.status.busy": "2022-04-14T00:38:41.822631Z",
     "iopub.status.idle": "2022-04-14T00:38:41.826443Z",
     "shell.execute_reply": "2022-04-14T00:38:41.825873Z",
     "shell.execute_reply.started": "2022-04-14T00:34:10.576669Z"
    },
    "papermill": {
     "duration": 0.056739,
     "end_time": "2022-04-14T00:38:41.826589",
     "exception": false,
     "start_time": "2022-04-14T00:38:41.769850",
     "status": "completed"
    },
    "tags": []
   },
   "outputs": [
    {
     "data": {
      "text/plain": [
       "PassengerId      0\n",
       "Survived         0\n",
       "Pclass           0\n",
       "Name             0\n",
       "Sex              0\n",
       "Age            177\n",
       "SibSp            0\n",
       "Parch            0\n",
       "Ticket           0\n",
       "Fare             0\n",
       "Cabin          687\n",
       "Embarked         2\n",
       "dtype: int64"
      ]
     },
     "execution_count": 7,
     "metadata": {},
     "output_type": "execute_result"
    }
   ],
   "source": [
    "# determine the number of null or missing values in each column for train set\n",
    "#to be used later\n",
    "train_df.isnull().sum()"
   ]
  },
  {
   "cell_type": "code",
   "execution_count": 8,
   "id": "77f6924a",
   "metadata": {
    "execution": {
     "iopub.execute_input": "2022-04-14T00:38:41.923706Z",
     "iopub.status.busy": "2022-04-14T00:38:41.922881Z",
     "iopub.status.idle": "2022-04-14T00:38:41.926367Z",
     "shell.execute_reply": "2022-04-14T00:38:41.925721Z",
     "shell.execute_reply.started": "2022-04-14T00:34:10.588677Z"
    },
    "papermill": {
     "duration": 0.055735,
     "end_time": "2022-04-14T00:38:41.926524",
     "exception": false,
     "start_time": "2022-04-14T00:38:41.870789",
     "status": "completed"
    },
    "tags": []
   },
   "outputs": [
    {
     "data": {
      "text/plain": [
       "PassengerId      0\n",
       "Pclass           0\n",
       "Name             0\n",
       "Sex              0\n",
       "Age             86\n",
       "SibSp            0\n",
       "Parch            0\n",
       "Ticket           0\n",
       "Fare             1\n",
       "Cabin          327\n",
       "Embarked         0\n",
       "dtype: int64"
      ]
     },
     "execution_count": 8,
     "metadata": {},
     "output_type": "execute_result"
    }
   ],
   "source": [
    "#determine the number of null or missing value in each column for test set\n",
    "#to be used later\n",
    "test_df.isnull().sum()"
   ]
  },
  {
   "cell_type": "markdown",
   "id": "43b0bcfb",
   "metadata": {
    "papermill": {
     "duration": 0.042935,
     "end_time": "2022-04-14T00:38:42.014271",
     "exception": false,
     "start_time": "2022-04-14T00:38:41.971336",
     "status": "completed"
    },
    "tags": []
   },
   "source": [
    "# Cleaning Data\n",
    "Now that I have an idea of what types of data are in the set and have an idea of what data is missing the process of cleaning or wrangling data begins. The focus of this process is to transform and unify the data for easy access and analysis. I will do this by dropping and adding features, converting data types and completing numerical continuous features. \n"
   ]
  },
  {
   "cell_type": "markdown",
   "id": "a5a2b3ea",
   "metadata": {
    "papermill": {
     "duration": 0.043852,
     "end_time": "2022-04-14T00:38:42.100929",
     "exception": false,
     "start_time": "2022-04-14T00:38:42.057077",
     "status": "completed"
    },
    "tags": []
   },
   "source": [
    "## Unifying Categorical Features\n",
    "In order to unify certain aspects of the data I converted features that contain strings to numerical values. Numerical values are favored by most models and will create consistancy through the features.  \n",
    "  \n",
    "  The feature Sex will be converted to a discrete data type where female = 1 and male = 0."
   ]
  },
  {
   "cell_type": "code",
   "execution_count": 9,
   "id": "b7590aa4",
   "metadata": {
    "execution": {
     "iopub.execute_input": "2022-04-14T00:38:42.206637Z",
     "iopub.status.busy": "2022-04-14T00:38:42.205908Z",
     "iopub.status.idle": "2022-04-14T00:38:42.209694Z",
     "shell.execute_reply": "2022-04-14T00:38:42.209153Z",
     "shell.execute_reply.started": "2022-04-14T00:34:10.601968Z"
    },
    "papermill": {
     "duration": 0.066395,
     "end_time": "2022-04-14T00:38:42.209838",
     "exception": false,
     "start_time": "2022-04-14T00:38:42.143443",
     "status": "completed"
    },
    "tags": []
   },
   "outputs": [
    {
     "data": {
      "text/html": [
       "<div>\n",
       "<style scoped>\n",
       "    .dataframe tbody tr th:only-of-type {\n",
       "        vertical-align: middle;\n",
       "    }\n",
       "\n",
       "    .dataframe tbody tr th {\n",
       "        vertical-align: top;\n",
       "    }\n",
       "\n",
       "    .dataframe thead th {\n",
       "        text-align: right;\n",
       "    }\n",
       "</style>\n",
       "<table border=\"1\" class=\"dataframe\">\n",
       "  <thead>\n",
       "    <tr style=\"text-align: right;\">\n",
       "      <th></th>\n",
       "      <th>PassengerId</th>\n",
       "      <th>Survived</th>\n",
       "      <th>Pclass</th>\n",
       "      <th>Name</th>\n",
       "      <th>Sex</th>\n",
       "      <th>Age</th>\n",
       "      <th>SibSp</th>\n",
       "      <th>Parch</th>\n",
       "      <th>Ticket</th>\n",
       "      <th>Fare</th>\n",
       "      <th>Cabin</th>\n",
       "      <th>Embarked</th>\n",
       "    </tr>\n",
       "  </thead>\n",
       "  <tbody>\n",
       "    <tr>\n",
       "      <th>0</th>\n",
       "      <td>1</td>\n",
       "      <td>0</td>\n",
       "      <td>3</td>\n",
       "      <td>Braund, Mr. Owen Harris</td>\n",
       "      <td>0</td>\n",
       "      <td>22.0</td>\n",
       "      <td>1</td>\n",
       "      <td>0</td>\n",
       "      <td>A/5 21171</td>\n",
       "      <td>7.2500</td>\n",
       "      <td>NaN</td>\n",
       "      <td>S</td>\n",
       "    </tr>\n",
       "    <tr>\n",
       "      <th>1</th>\n",
       "      <td>2</td>\n",
       "      <td>1</td>\n",
       "      <td>1</td>\n",
       "      <td>Cumings, Mrs. John Bradley (Florence Briggs Th...</td>\n",
       "      <td>1</td>\n",
       "      <td>38.0</td>\n",
       "      <td>1</td>\n",
       "      <td>0</td>\n",
       "      <td>PC 17599</td>\n",
       "      <td>71.2833</td>\n",
       "      <td>C85</td>\n",
       "      <td>C</td>\n",
       "    </tr>\n",
       "    <tr>\n",
       "      <th>2</th>\n",
       "      <td>3</td>\n",
       "      <td>1</td>\n",
       "      <td>3</td>\n",
       "      <td>Heikkinen, Miss. Laina</td>\n",
       "      <td>1</td>\n",
       "      <td>26.0</td>\n",
       "      <td>0</td>\n",
       "      <td>0</td>\n",
       "      <td>STON/O2. 3101282</td>\n",
       "      <td>7.9250</td>\n",
       "      <td>NaN</td>\n",
       "      <td>S</td>\n",
       "    </tr>\n",
       "    <tr>\n",
       "      <th>3</th>\n",
       "      <td>4</td>\n",
       "      <td>1</td>\n",
       "      <td>1</td>\n",
       "      <td>Futrelle, Mrs. Jacques Heath (Lily May Peel)</td>\n",
       "      <td>1</td>\n",
       "      <td>35.0</td>\n",
       "      <td>1</td>\n",
       "      <td>0</td>\n",
       "      <td>113803</td>\n",
       "      <td>53.1000</td>\n",
       "      <td>C123</td>\n",
       "      <td>S</td>\n",
       "    </tr>\n",
       "    <tr>\n",
       "      <th>4</th>\n",
       "      <td>5</td>\n",
       "      <td>0</td>\n",
       "      <td>3</td>\n",
       "      <td>Allen, Mr. William Henry</td>\n",
       "      <td>0</td>\n",
       "      <td>35.0</td>\n",
       "      <td>0</td>\n",
       "      <td>0</td>\n",
       "      <td>373450</td>\n",
       "      <td>8.0500</td>\n",
       "      <td>NaN</td>\n",
       "      <td>S</td>\n",
       "    </tr>\n",
       "  </tbody>\n",
       "</table>\n",
       "</div>"
      ],
      "text/plain": [
       "   PassengerId  Survived  Pclass  \\\n",
       "0            1         0       3   \n",
       "1            2         1       1   \n",
       "2            3         1       3   \n",
       "3            4         1       1   \n",
       "4            5         0       3   \n",
       "\n",
       "                                                Name  Sex   Age  SibSp  Parch  \\\n",
       "0                            Braund, Mr. Owen Harris    0  22.0      1      0   \n",
       "1  Cumings, Mrs. John Bradley (Florence Briggs Th...    1  38.0      1      0   \n",
       "2                             Heikkinen, Miss. Laina    1  26.0      0      0   \n",
       "3       Futrelle, Mrs. Jacques Heath (Lily May Peel)    1  35.0      1      0   \n",
       "4                           Allen, Mr. William Henry    0  35.0      0      0   \n",
       "\n",
       "             Ticket     Fare Cabin Embarked  \n",
       "0         A/5 21171   7.2500   NaN        S  \n",
       "1          PC 17599  71.2833   C85        C  \n",
       "2  STON/O2. 3101282   7.9250   NaN        S  \n",
       "3            113803  53.1000  C123        S  \n",
       "4            373450   8.0500   NaN        S  "
      ]
     },
     "execution_count": 9,
     "metadata": {},
     "output_type": "execute_result"
    }
   ],
   "source": [
    "for dataset in combine:\n",
    "        dataset['Sex'] = dataset['Sex'].map( {'female': 1, 'male': 0} ).astype(int)\n",
    "        \n",
    "train_df.head()"
   ]
  },
  {
   "cell_type": "markdown",
   "id": "99afd036",
   "metadata": {
    "papermill": {
     "duration": 0.043255,
     "end_time": "2022-04-14T00:38:42.296000",
     "exception": false,
     "start_time": "2022-04-14T00:38:42.252745",
     "status": "completed"
    },
    "tags": []
   },
   "source": [
    "## Completing Continuous Feature\n",
    "Through the exploration of the data and its features above it was found that 177 data points for age were missing. In order to correct this use the randomized age data will be generated using the mean age and standard deviation of the data set to account for the missing values."
   ]
  },
  {
   "cell_type": "code",
   "execution_count": 10,
   "id": "e06db0f8",
   "metadata": {
    "execution": {
     "iopub.execute_input": "2022-04-14T00:38:42.400747Z",
     "iopub.status.busy": "2022-04-14T00:38:42.388519Z",
     "iopub.status.idle": "2022-04-14T00:38:42.405119Z",
     "shell.execute_reply": "2022-04-14T00:38:42.404590Z",
     "shell.execute_reply.started": "2022-04-14T00:34:10.632851Z"
    },
    "papermill": {
     "duration": 0.066507,
     "end_time": "2022-04-14T00:38:42.405280",
     "exception": false,
     "start_time": "2022-04-14T00:38:42.338773",
     "status": "completed"
    },
    "tags": []
   },
   "outputs": [
    {
     "data": {
      "text/html": [
       "<div>\n",
       "<style scoped>\n",
       "    .dataframe tbody tr th:only-of-type {\n",
       "        vertical-align: middle;\n",
       "    }\n",
       "\n",
       "    .dataframe tbody tr th {\n",
       "        vertical-align: top;\n",
       "    }\n",
       "\n",
       "    .dataframe thead th {\n",
       "        text-align: right;\n",
       "    }\n",
       "</style>\n",
       "<table border=\"1\" class=\"dataframe\">\n",
       "  <thead>\n",
       "    <tr style=\"text-align: right;\">\n",
       "      <th></th>\n",
       "      <th>PassengerId</th>\n",
       "      <th>Survived</th>\n",
       "      <th>Pclass</th>\n",
       "      <th>Name</th>\n",
       "      <th>Sex</th>\n",
       "      <th>Age</th>\n",
       "      <th>SibSp</th>\n",
       "      <th>Parch</th>\n",
       "      <th>Ticket</th>\n",
       "      <th>Fare</th>\n",
       "      <th>Cabin</th>\n",
       "      <th>Embarked</th>\n",
       "    </tr>\n",
       "  </thead>\n",
       "  <tbody>\n",
       "    <tr>\n",
       "      <th>886</th>\n",
       "      <td>887</td>\n",
       "      <td>0</td>\n",
       "      <td>2</td>\n",
       "      <td>Montvila, Rev. Juozas</td>\n",
       "      <td>0</td>\n",
       "      <td>27</td>\n",
       "      <td>0</td>\n",
       "      <td>0</td>\n",
       "      <td>211536</td>\n",
       "      <td>13.00</td>\n",
       "      <td>NaN</td>\n",
       "      <td>S</td>\n",
       "    </tr>\n",
       "    <tr>\n",
       "      <th>887</th>\n",
       "      <td>888</td>\n",
       "      <td>1</td>\n",
       "      <td>1</td>\n",
       "      <td>Graham, Miss. Margaret Edith</td>\n",
       "      <td>1</td>\n",
       "      <td>19</td>\n",
       "      <td>0</td>\n",
       "      <td>0</td>\n",
       "      <td>112053</td>\n",
       "      <td>30.00</td>\n",
       "      <td>B42</td>\n",
       "      <td>S</td>\n",
       "    </tr>\n",
       "    <tr>\n",
       "      <th>888</th>\n",
       "      <td>889</td>\n",
       "      <td>0</td>\n",
       "      <td>3</td>\n",
       "      <td>Johnston, Miss. Catherine Helen \"Carrie\"</td>\n",
       "      <td>1</td>\n",
       "      <td>24</td>\n",
       "      <td>1</td>\n",
       "      <td>2</td>\n",
       "      <td>W./C. 6607</td>\n",
       "      <td>23.45</td>\n",
       "      <td>NaN</td>\n",
       "      <td>S</td>\n",
       "    </tr>\n",
       "    <tr>\n",
       "      <th>889</th>\n",
       "      <td>890</td>\n",
       "      <td>1</td>\n",
       "      <td>1</td>\n",
       "      <td>Behr, Mr. Karl Howell</td>\n",
       "      <td>0</td>\n",
       "      <td>26</td>\n",
       "      <td>0</td>\n",
       "      <td>0</td>\n",
       "      <td>111369</td>\n",
       "      <td>30.00</td>\n",
       "      <td>C148</td>\n",
       "      <td>C</td>\n",
       "    </tr>\n",
       "    <tr>\n",
       "      <th>890</th>\n",
       "      <td>891</td>\n",
       "      <td>0</td>\n",
       "      <td>3</td>\n",
       "      <td>Dooley, Mr. Patrick</td>\n",
       "      <td>0</td>\n",
       "      <td>32</td>\n",
       "      <td>0</td>\n",
       "      <td>0</td>\n",
       "      <td>370376</td>\n",
       "      <td>7.75</td>\n",
       "      <td>NaN</td>\n",
       "      <td>Q</td>\n",
       "    </tr>\n",
       "  </tbody>\n",
       "</table>\n",
       "</div>"
      ],
      "text/plain": [
       "     PassengerId  Survived  Pclass                                      Name  \\\n",
       "886          887         0       2                     Montvila, Rev. Juozas   \n",
       "887          888         1       1              Graham, Miss. Margaret Edith   \n",
       "888          889         0       3  Johnston, Miss. Catherine Helen \"Carrie\"   \n",
       "889          890         1       1                     Behr, Mr. Karl Howell   \n",
       "890          891         0       3                       Dooley, Mr. Patrick   \n",
       "\n",
       "     Sex  Age  SibSp  Parch      Ticket   Fare Cabin Embarked  \n",
       "886    0   27      0      0      211536  13.00   NaN        S  \n",
       "887    1   19      0      0      112053  30.00   B42        S  \n",
       "888    1   24      1      2  W./C. 6607  23.45   NaN        S  \n",
       "889    0   26      0      0      111369  30.00  C148        C  \n",
       "890    0   32      0      0      370376   7.75   NaN        Q  "
      ]
     },
     "execution_count": 10,
     "metadata": {},
     "output_type": "execute_result"
    }
   ],
   "source": [
    "#compute mean and standard dev of Age\n",
    "age_mean = train_df['Age'].mean()\n",
    "age_std = train_df['Age'].std()\n",
    "\n",
    "#number of NaN values (non number values)\n",
    "num_na = train_df['Age'].isna().sum()\n",
    "\n",
    "#generate random ages from mean and standard dev\n",
    "random_vals = age_mean + age_std * np.random.randn(num_na)\n",
    "\n",
    "#replace missing values with random_vals\n",
    "train_df.loc[train_df['Age'].isna(), 'Age'] = random_vals\n",
    "\n",
    "# convert to whole numbers\n",
    "train_df['Age'] = train_df['Age'].astype(np.int64)\n",
    "\n",
    "#view data to check work\n",
    "train_df.tail()"
   ]
  },
  {
   "cell_type": "code",
   "execution_count": 11,
   "id": "06daa285",
   "metadata": {
    "execution": {
     "iopub.execute_input": "2022-04-14T00:38:42.502950Z",
     "iopub.status.busy": "2022-04-14T00:38:42.502288Z",
     "iopub.status.idle": "2022-04-14T00:38:42.505840Z",
     "shell.execute_reply": "2022-04-14T00:38:42.505210Z",
     "shell.execute_reply.started": "2022-04-14T00:34:10.661767Z"
    },
    "papermill": {
     "duration": 0.056127,
     "end_time": "2022-04-14T00:38:42.505975",
     "exception": false,
     "start_time": "2022-04-14T00:38:42.449848",
     "status": "completed"
    },
    "tags": []
   },
   "outputs": [
    {
     "data": {
      "text/plain": [
       "PassengerId      0\n",
       "Survived         0\n",
       "Pclass           0\n",
       "Name             0\n",
       "Sex              0\n",
       "Age              0\n",
       "SibSp            0\n",
       "Parch            0\n",
       "Ticket           0\n",
       "Fare             0\n",
       "Cabin          687\n",
       "Embarked         2\n",
       "dtype: int64"
      ]
     },
     "execution_count": 11,
     "metadata": {},
     "output_type": "execute_result"
    }
   ],
   "source": [
    "#Verify that missing values for age have been replaced.\n",
    "train_df.isnull().sum()"
   ]
  },
  {
   "cell_type": "code",
   "execution_count": 12,
   "id": "2eecec8a",
   "metadata": {
    "execution": {
     "iopub.execute_input": "2022-04-14T00:38:42.600870Z",
     "iopub.status.busy": "2022-04-14T00:38:42.600190Z",
     "iopub.status.idle": "2022-04-14T00:38:43.980305Z",
     "shell.execute_reply": "2022-04-14T00:38:43.979712Z",
     "shell.execute_reply.started": "2022-04-14T00:34:10.673585Z"
    },
    "papermill": {
     "duration": 1.430732,
     "end_time": "2022-04-14T00:38:43.980458",
     "exception": false,
     "start_time": "2022-04-14T00:38:42.549726",
     "status": "completed"
    },
    "tags": []
   },
   "outputs": [
    {
     "name": "stderr",
     "output_type": "stream",
     "text": [
      "/opt/conda/lib/python3.7/site-packages/seaborn/axisgrid.py:337: UserWarning: The `size` parameter has been renamed to `height`; please update your code.\n",
      "  warnings.warn(msg, UserWarning)\n"
     ]
    },
    {
     "data": {
      "text/plain": [
       "<seaborn.axisgrid.FacetGrid at 0x7f228ed82050>"
      ]
     },
     "execution_count": 12,
     "metadata": {},
     "output_type": "execute_result"
    },
    {
     "data": {
      "image/png": "[encoded data removed]",
      "text/plain": [
       "<Figure size 831.68x475.2 with 6 Axes>"
      ]
     },
     "metadata": {
      "needs_background": "light"
     },
     "output_type": "display_data"
    }
   ],
   "source": [
    "grid = sns.FacetGrid(train_df, row= 'Pclass', col= 'Sex', size = 2.2, aspect = 2.6)\n",
    "grid.map(plt.hist, 'Age', alpha= .5, bins=10, color= 'orange')\n",
    "plt.ylim((0,80))\n",
    "grid.add_legend()"
   ]
  },
  {
   "cell_type": "markdown",
   "id": "dce564b9",
   "metadata": {
    "papermill": {
     "duration": 0.047751,
     "end_time": "2022-04-14T00:38:44.076452",
     "exception": false,
     "start_time": "2022-04-14T00:38:44.028701",
     "status": "completed"
    },
    "tags": []
   },
   "source": [
    "## Completing a Categorical Feature\n",
    "Throughout the process of data exploration it was found that data points in the feature embarked were missing. In order to correct this I will fill those spaces with the most common occurance before converting the categorical feature to numeric."
   ]
  },
  {
   "cell_type": "code",
   "execution_count": 13,
   "id": "ca796634",
   "metadata": {
    "execution": {
     "iopub.execute_input": "2022-04-14T00:38:44.174879Z",
     "iopub.status.busy": "2022-04-14T00:38:44.174130Z",
     "iopub.status.idle": "2022-04-14T00:38:44.180500Z",
     "shell.execute_reply": "2022-04-14T00:38:44.181043Z",
     "shell.execute_reply.started": "2022-04-14T00:34:12.095775Z"
    },
    "papermill": {
     "duration": 0.055735,
     "end_time": "2022-04-14T00:38:44.181218",
     "exception": false,
     "start_time": "2022-04-14T00:38:44.125483",
     "status": "completed"
    },
    "tags": []
   },
   "outputs": [
    {
     "data": {
      "text/plain": [
       "'S'"
      ]
     },
     "execution_count": 13,
     "metadata": {},
     "output_type": "execute_result"
    }
   ],
   "source": [
    "#discover the most frequently used port\n",
    "port = train_df.Embarked.dropna().mode()[0]\n",
    "port"
   ]
  },
  {
   "cell_type": "code",
   "execution_count": 14,
   "id": "d2c1196e",
   "metadata": {
    "execution": {
     "iopub.execute_input": "2022-04-14T00:38:44.279823Z",
     "iopub.status.busy": "2022-04-14T00:38:44.279104Z",
     "iopub.status.idle": "2022-04-14T00:38:44.295826Z",
     "shell.execute_reply": "2022-04-14T00:38:44.296451Z",
     "shell.execute_reply.started": "2022-04-14T00:34:12.105696Z"
    },
    "papermill": {
     "duration": 0.068469,
     "end_time": "2022-04-14T00:38:44.296929",
     "exception": false,
     "start_time": "2022-04-14T00:38:44.228460",
     "status": "completed"
    },
    "tags": []
   },
   "outputs": [
    {
     "data": {
      "text/html": [
       "<div>\n",
       "<style scoped>\n",
       "    .dataframe tbody tr th:only-of-type {\n",
       "        vertical-align: middle;\n",
       "    }\n",
       "\n",
       "    .dataframe tbody tr th {\n",
       "        vertical-align: top;\n",
       "    }\n",
       "\n",
       "    .dataframe thead th {\n",
       "        text-align: right;\n",
       "    }\n",
       "</style>\n",
       "<table border=\"1\" class=\"dataframe\">\n",
       "  <thead>\n",
       "    <tr style=\"text-align: right;\">\n",
       "      <th></th>\n",
       "      <th>Embarked</th>\n",
       "      <th>Survived</th>\n",
       "    </tr>\n",
       "  </thead>\n",
       "  <tbody>\n",
       "    <tr>\n",
       "      <th>0</th>\n",
       "      <td>C</td>\n",
       "      <td>0.553571</td>\n",
       "    </tr>\n",
       "    <tr>\n",
       "      <th>1</th>\n",
       "      <td>Q</td>\n",
       "      <td>0.389610</td>\n",
       "    </tr>\n",
       "    <tr>\n",
       "      <th>2</th>\n",
       "      <td>S</td>\n",
       "      <td>0.339009</td>\n",
       "    </tr>\n",
       "  </tbody>\n",
       "</table>\n",
       "</div>"
      ],
      "text/plain": [
       "  Embarked  Survived\n",
       "0        C  0.553571\n",
       "1        Q  0.389610\n",
       "2        S  0.339009"
      ]
     },
     "execution_count": 14,
     "metadata": {},
     "output_type": "execute_result"
    }
   ],
   "source": [
    "for dataset in combine:\n",
    "    dataset['Embarked'] = dataset['Embarked'].fillna(port)\n",
    "    \n",
    "train_df[['Embarked', 'Survived']].groupby(['Embarked'], \n",
    "                                as_index=False).mean().sort_values(by='Survived', ascending=False)"
   ]
  },
  {
   "cell_type": "code",
   "execution_count": 15,
   "id": "fc7b89f9",
   "metadata": {
    "execution": {
     "iopub.execute_input": "2022-04-14T00:38:44.399944Z",
     "iopub.status.busy": "2022-04-14T00:38:44.399131Z",
     "iopub.status.idle": "2022-04-14T00:38:44.406751Z",
     "shell.execute_reply": "2022-04-14T00:38:44.407311Z",
     "shell.execute_reply.started": "2022-04-14T00:34:12.127812Z"
    },
    "papermill": {
     "duration": 0.061589,
     "end_time": "2022-04-14T00:38:44.407497",
     "exception": false,
     "start_time": "2022-04-14T00:38:44.345908",
     "status": "completed"
    },
    "tags": []
   },
   "outputs": [
    {
     "data": {
      "text/plain": [
       "PassengerId      0\n",
       "Survived         0\n",
       "Pclass           0\n",
       "Name             0\n",
       "Sex              0\n",
       "Age              0\n",
       "SibSp            0\n",
       "Parch            0\n",
       "Ticket           0\n",
       "Fare             0\n",
       "Cabin          687\n",
       "Embarked         0\n",
       "dtype: int64"
      ]
     },
     "execution_count": 15,
     "metadata": {},
     "output_type": "execute_result"
    }
   ],
   "source": [
    "train_df.isnull().sum()"
   ]
  },
  {
   "cell_type": "code",
   "execution_count": 16,
   "id": "22f8e9c8",
   "metadata": {
    "execution": {
     "iopub.execute_input": "2022-04-14T00:38:44.510513Z",
     "iopub.status.busy": "2022-04-14T00:38:44.509764Z",
     "iopub.status.idle": "2022-04-14T00:38:44.527486Z",
     "shell.execute_reply": "2022-04-14T00:38:44.526904Z",
     "shell.execute_reply.started": "2022-04-14T00:34:12.138397Z"
    },
    "papermill": {
     "duration": 0.06935,
     "end_time": "2022-04-14T00:38:44.527642",
     "exception": false,
     "start_time": "2022-04-14T00:38:44.458292",
     "status": "completed"
    },
    "tags": []
   },
   "outputs": [
    {
     "data": {
      "text/html": [
       "<div>\n",
       "<style scoped>\n",
       "    .dataframe tbody tr th:only-of-type {\n",
       "        vertical-align: middle;\n",
       "    }\n",
       "\n",
       "    .dataframe tbody tr th {\n",
       "        vertical-align: top;\n",
       "    }\n",
       "\n",
       "    .dataframe thead th {\n",
       "        text-align: right;\n",
       "    }\n",
       "</style>\n",
       "<table border=\"1\" class=\"dataframe\">\n",
       "  <thead>\n",
       "    <tr style=\"text-align: right;\">\n",
       "      <th></th>\n",
       "      <th>PassengerId</th>\n",
       "      <th>Survived</th>\n",
       "      <th>Pclass</th>\n",
       "      <th>Name</th>\n",
       "      <th>Sex</th>\n",
       "      <th>Age</th>\n",
       "      <th>SibSp</th>\n",
       "      <th>Parch</th>\n",
       "      <th>Ticket</th>\n",
       "      <th>Fare</th>\n",
       "      <th>Cabin</th>\n",
       "      <th>Embarked</th>\n",
       "    </tr>\n",
       "  </thead>\n",
       "  <tbody>\n",
       "    <tr>\n",
       "      <th>0</th>\n",
       "      <td>1</td>\n",
       "      <td>0</td>\n",
       "      <td>3</td>\n",
       "      <td>Braund, Mr. Owen Harris</td>\n",
       "      <td>0</td>\n",
       "      <td>22</td>\n",
       "      <td>1</td>\n",
       "      <td>0</td>\n",
       "      <td>A/5 21171</td>\n",
       "      <td>7.2500</td>\n",
       "      <td>NaN</td>\n",
       "      <td>0</td>\n",
       "    </tr>\n",
       "    <tr>\n",
       "      <th>1</th>\n",
       "      <td>2</td>\n",
       "      <td>1</td>\n",
       "      <td>1</td>\n",
       "      <td>Cumings, Mrs. John Bradley (Florence Briggs Th...</td>\n",
       "      <td>1</td>\n",
       "      <td>38</td>\n",
       "      <td>1</td>\n",
       "      <td>0</td>\n",
       "      <td>PC 17599</td>\n",
       "      <td>71.2833</td>\n",
       "      <td>C85</td>\n",
       "      <td>1</td>\n",
       "    </tr>\n",
       "    <tr>\n",
       "      <th>2</th>\n",
       "      <td>3</td>\n",
       "      <td>1</td>\n",
       "      <td>3</td>\n",
       "      <td>Heikkinen, Miss. Laina</td>\n",
       "      <td>1</td>\n",
       "      <td>26</td>\n",
       "      <td>0</td>\n",
       "      <td>0</td>\n",
       "      <td>STON/O2. 3101282</td>\n",
       "      <td>7.9250</td>\n",
       "      <td>NaN</td>\n",
       "      <td>0</td>\n",
       "    </tr>\n",
       "    <tr>\n",
       "      <th>3</th>\n",
       "      <td>4</td>\n",
       "      <td>1</td>\n",
       "      <td>1</td>\n",
       "      <td>Futrelle, Mrs. Jacques Heath (Lily May Peel)</td>\n",
       "      <td>1</td>\n",
       "      <td>35</td>\n",
       "      <td>1</td>\n",
       "      <td>0</td>\n",
       "      <td>113803</td>\n",
       "      <td>53.1000</td>\n",
       "      <td>C123</td>\n",
       "      <td>0</td>\n",
       "    </tr>\n",
       "    <tr>\n",
       "      <th>4</th>\n",
       "      <td>5</td>\n",
       "      <td>0</td>\n",
       "      <td>3</td>\n",
       "      <td>Allen, Mr. William Henry</td>\n",
       "      <td>0</td>\n",
       "      <td>35</td>\n",
       "      <td>0</td>\n",
       "      <td>0</td>\n",
       "      <td>373450</td>\n",
       "      <td>8.0500</td>\n",
       "      <td>NaN</td>\n",
       "      <td>0</td>\n",
       "    </tr>\n",
       "  </tbody>\n",
       "</table>\n",
       "</div>"
      ],
      "text/plain": [
       "   PassengerId  Survived  Pclass  \\\n",
       "0            1         0       3   \n",
       "1            2         1       1   \n",
       "2            3         1       3   \n",
       "3            4         1       1   \n",
       "4            5         0       3   \n",
       "\n",
       "                                                Name  Sex  Age  SibSp  Parch  \\\n",
       "0                            Braund, Mr. Owen Harris    0   22      1      0   \n",
       "1  Cumings, Mrs. John Bradley (Florence Briggs Th...    1   38      1      0   \n",
       "2                             Heikkinen, Miss. Laina    1   26      0      0   \n",
       "3       Futrelle, Mrs. Jacques Heath (Lily May Peel)    1   35      1      0   \n",
       "4                           Allen, Mr. William Henry    0   35      0      0   \n",
       "\n",
       "             Ticket     Fare Cabin  Embarked  \n",
       "0         A/5 21171   7.2500   NaN         0  \n",
       "1          PC 17599  71.2833   C85         1  \n",
       "2  STON/O2. 3101282   7.9250   NaN         0  \n",
       "3            113803  53.1000  C123         0  \n",
       "4            373450   8.0500   NaN         0  "
      ]
     },
     "execution_count": 16,
     "metadata": {},
     "output_type": "execute_result"
    }
   ],
   "source": [
    "#convert categorical embarked feature to numeric\n",
    "#this creates a unifying data type for analysis\n",
    "\n",
    "for dataset in combine:\n",
    "    dataset['Embarked'] = dataset['Embarked'].map( {'S': 0, 'C': 1, 'Q': 2} ).astype(int)\n",
    "\n",
    "train_df.head()"
   ]
  },
  {
   "cell_type": "markdown",
   "id": "2fd94931",
   "metadata": {
    "papermill": {
     "duration": 0.048943,
     "end_time": "2022-04-14T00:38:44.625694",
     "exception": false,
     "start_time": "2022-04-14T00:38:44.576751",
     "status": "completed"
    },
    "tags": []
   },
   "source": [
    "## Correction by dropping features\n",
    "*insert details*"
   ]
  },
  {
   "cell_type": "code",
   "execution_count": 17,
   "id": "93d8ee7a",
   "metadata": {
    "execution": {
     "iopub.execute_input": "2022-04-14T00:38:44.726532Z",
     "iopub.status.busy": "2022-04-14T00:38:44.725763Z",
     "iopub.status.idle": "2022-04-14T00:38:44.739015Z",
     "shell.execute_reply": "2022-04-14T00:38:44.739536Z",
     "shell.execute_reply.started": "2022-04-14T00:34:12.165034Z"
    },
    "papermill": {
     "duration": 0.066203,
     "end_time": "2022-04-14T00:38:44.739728",
     "exception": false,
     "start_time": "2022-04-14T00:38:44.673525",
     "status": "completed"
    },
    "tags": []
   },
   "outputs": [
    {
     "name": "stdout",
     "output_type": "stream",
     "text": [
      "Before (891, 12) (418, 11) (891, 12) (418, 11)\n"
     ]
    },
    {
     "data": {
      "text/plain": [
       "('After', (891, 10), (418, 9), (891, 10), (418, 9))"
      ]
     },
     "execution_count": 17,
     "metadata": {},
     "output_type": "execute_result"
    }
   ],
   "source": [
    "print(\"Before\", train_df.shape, test_df.shape, combine[0].shape, combine[1].shape)\n",
    "\n",
    "train_df = train_df.drop(['Ticket', 'Cabin'], axis=1)\n",
    "test_df = test_df.drop(['Ticket', 'Cabin'], axis=1)\n",
    "combine = [train_df, test_df]\n",
    "\n",
    "\"After\", train_df.shape, test_df.shape, combine[0].shape, combine[1].shape"
   ]
  },
  {
   "cell_type": "markdown",
   "id": "e2a2dd0a",
   "metadata": {
    "papermill": {
     "duration": 0.049262,
     "end_time": "2022-04-14T00:38:44.837957",
     "exception": false,
     "start_time": "2022-04-14T00:38:44.788695",
     "status": "completed"
    },
    "tags": []
   },
   "source": [
    "# Data Visualization\n",
    "Data visualization is a useful tool for data cleaning as it can assist with detecting outliers, missing values, implicit boundaries and much more. In this case I will be using it to check the effectiveness of my data cleaning methods as well as correlating various related features. "
   ]
  },
  {
   "cell_type": "markdown",
   "id": "1a6fbe41",
   "metadata": {
    "papermill": {
     "duration": 0.048233,
     "end_time": "2022-04-14T00:38:44.935178",
     "exception": false,
     "start_time": "2022-04-14T00:38:44.886945",
     "status": "completed"
    },
    "tags": []
   },
   "source": [
    "### Age vs Survival\n",
    " \n",
    "Throughout the cleaning process I noticed a few relationships between age and survival. Most passangers in this data set are in the age range 15-35 years old. The oldest surviving passanger was 80 years old and children under the age of 4 had a high survival rate."
   ]
  },
  {
   "cell_type": "code",
   "execution_count": 18,
   "id": "648e525d",
   "metadata": {
    "execution": {
     "iopub.execute_input": "2022-04-14T00:38:45.055693Z",
     "iopub.status.busy": "2022-04-14T00:38:45.040597Z",
     "iopub.status.idle": "2022-04-14T00:38:45.586856Z",
     "shell.execute_reply": "2022-04-14T00:38:45.586249Z",
     "shell.execute_reply.started": "2022-04-14T00:34:12.187195Z"
    },
    "papermill": {
     "duration": 0.601617,
     "end_time": "2022-04-14T00:38:45.586999",
     "exception": false,
     "start_time": "2022-04-14T00:38:44.985382",
     "status": "completed"
    },
    "tags": []
   },
   "outputs": [
    {
     "data": {
      "text/plain": [
       "<seaborn.axisgrid.FacetGrid at 0x7f228c908e50>"
      ]
     },
     "execution_count": 18,
     "metadata": {},
     "output_type": "execute_result"
    },
    {
     "data": {
      "image/png": "[encoded data removed]",
      "text/plain": [
       "<Figure size 432x216 with 2 Axes>"
      ]
     },
     "metadata": {
      "needs_background": "light"
     },
     "output_type": "display_data"
    }
   ],
   "source": [
    "age_hist = sns.FacetGrid(train_df, col= 'Survived')\n",
    "age_hist.map(plt.hist, 'Age', bins = 20, color = \"Orange\")"
   ]
  },
  {
   "cell_type": "markdown",
   "id": "b5bc3744",
   "metadata": {
    "papermill": {
     "duration": 0.051768,
     "end_time": "2022-04-14T00:38:45.688425",
     "exception": false,
     "start_time": "2022-04-14T00:38:45.636657",
     "status": "completed"
    },
    "tags": []
   },
   "source": [
    "###  Survival Classified by Age and Passenger Class\n"
   ]
  },
  {
   "cell_type": "code",
   "execution_count": 19,
   "id": "cbc963d0",
   "metadata": {
    "execution": {
     "iopub.execute_input": "2022-04-14T00:38:45.797019Z",
     "iopub.status.busy": "2022-04-14T00:38:45.796278Z",
     "iopub.status.idle": "2022-04-14T00:38:47.232290Z",
     "shell.execute_reply": "2022-04-14T00:38:47.231704Z",
     "shell.execute_reply.started": "2022-04-14T00:34:12.688235Z"
    },
    "papermill": {
     "duration": 1.492891,
     "end_time": "2022-04-14T00:38:47.232443",
     "exception": false,
     "start_time": "2022-04-14T00:38:45.739552",
     "status": "completed"
    },
    "tags": []
   },
   "outputs": [
    {
     "name": "stderr",
     "output_type": "stream",
     "text": [
      "/opt/conda/lib/python3.7/site-packages/seaborn/axisgrid.py:337: UserWarning: The `size` parameter has been renamed to `height`; please update your code.\n",
      "  warnings.warn(msg, UserWarning)\n"
     ]
    },
    {
     "data": {
      "image/png": "[encoded data removed]",
      "text/plain": [
       "<Figure size 514.88x475.2 with 6 Axes>"
      ]
     },
     "metadata": {
      "needs_background": "light"
     },
     "output_type": "display_data"
    }
   ],
   "source": [
    "grid = sns.FacetGrid(train_df, col = 'Survived', row = 'Pclass', size = 2.2, aspect = 1.6)\n",
    "grid.map(plt.hist, 'Age', alpha = .5, bins = 20, color = \"Orange\")\n",
    "grid.add_legend();"
   ]
  },
  {
   "cell_type": "markdown",
   "id": "e154ef3f",
   "metadata": {
    "papermill": {
     "duration": 0.052327,
     "end_time": "2022-04-14T00:38:47.335778",
     "exception": false,
     "start_time": "2022-04-14T00:38:47.283451",
     "status": "completed"
    },
    "tags": []
   },
   "source": [
    "### Survival by Sex, Passenger Class and Embarking Port\n"
   ]
  },
  {
   "cell_type": "code",
   "execution_count": 20,
   "id": "c1561cba",
   "metadata": {
    "execution": {
     "iopub.execute_input": "2022-04-14T00:38:47.442916Z",
     "iopub.status.busy": "2022-04-14T00:38:47.442192Z",
     "iopub.status.idle": "2022-04-14T00:38:48.874405Z",
     "shell.execute_reply": "2022-04-14T00:38:48.874913Z",
     "shell.execute_reply.started": "2022-04-14T00:34:14.544851Z"
    },
    "papermill": {
     "duration": 1.487883,
     "end_time": "2022-04-14T00:38:48.875083",
     "exception": false,
     "start_time": "2022-04-14T00:38:47.387200",
     "status": "completed"
    },
    "tags": []
   },
   "outputs": [
    {
     "name": "stderr",
     "output_type": "stream",
     "text": [
      "/opt/conda/lib/python3.7/site-packages/seaborn/axisgrid.py:337: UserWarning: The `size` parameter has been renamed to `height`; please update your code.\n",
      "  warnings.warn(msg, UserWarning)\n",
      "/opt/conda/lib/python3.7/site-packages/seaborn/axisgrid.py:670: UserWarning: Using the pointplot function without specifying `order` is likely to produce an incorrect plot.\n",
      "  warnings.warn(warning)\n",
      "/opt/conda/lib/python3.7/site-packages/seaborn/axisgrid.py:675: UserWarning: Using the pointplot function without specifying `hue_order` is likely to produce an incorrect plot.\n",
      "  warnings.warn(warning)\n"
     ]
    },
    {
     "data": {
      "text/plain": [
       "<seaborn.axisgrid.FacetGrid at 0x7f228c6b21d0>"
      ]
     },
     "execution_count": 20,
     "metadata": {},
     "output_type": "execute_result"
    },
    {
     "data": {
      "image/png": "[encoded data removed]",
      "text/plain": [
       "<Figure size 295.815x475.2 with 3 Axes>"
      ]
     },
     "metadata": {
      "needs_background": "light"
     },
     "output_type": "display_data"
    }
   ],
   "source": [
    "grid = sns.FacetGrid(train_df, row='Embarked', size=2.2, aspect=1.6)\n",
    "grid.map(sns.pointplot, 'Pclass', 'Survived', 'Sex', palette='deep')\n",
    "grid.add_legend()"
   ]
  },
  {
   "cell_type": "markdown",
   "id": "66836d55",
   "metadata": {
    "papermill": {
     "duration": 0.053919,
     "end_time": "2022-04-14T00:38:48.983479",
     "exception": false,
     "start_time": "2022-04-14T00:38:48.929560",
     "status": "completed"
    },
    "tags": []
   },
   "source": [
    "# Predicitive Modeling \n",
    "\n",
    "[Predicitive modeling](https://www.gartner.com/en/information-technology/glossary/predictive-modeling) is a commonly used statistical techinque to predict future behavior by analyzinf historical and current data and generation a model to help predict outcomes.\n",
    "\n",
    "* Logistic Regression\n",
    "* Random Forest\n",
    "* k-Nearest Neighbors\n",
    "* Decision Tree"
   ]
  },
  {
   "cell_type": "code",
   "execution_count": 21,
   "id": "7edfbaa6",
   "metadata": {
    "execution": {
     "iopub.execute_input": "2022-04-14T00:38:49.106494Z",
     "iopub.status.busy": "2022-04-14T00:38:49.105406Z",
     "iopub.status.idle": "2022-04-14T00:38:49.110891Z",
     "shell.execute_reply": "2022-04-14T00:38:49.111555Z",
     "shell.execute_reply.started": "2022-04-14T00:34:16.011734Z"
    },
    "papermill": {
     "duration": 0.072873,
     "end_time": "2022-04-14T00:38:49.111730",
     "exception": false,
     "start_time": "2022-04-14T00:38:49.038857",
     "status": "completed"
    },
    "tags": []
   },
   "outputs": [
    {
     "data": {
      "text/plain": [
       "((891, 9), (891,), (418, 8))"
      ]
     },
     "execution_count": 21,
     "metadata": {},
     "output_type": "execute_result"
    }
   ],
   "source": [
    "X_train = train_df.drop(\"Survived\", axis=1)\n",
    "Y_train = train_df[\"Survived\"]\n",
    "X_test  = test_df.drop(\"PassengerId\", axis=1).copy()\n",
    "X_train.shape, Y_train.shape, X_test.shape"
   ]
  },
  {
   "cell_type": "markdown",
   "id": "07e4eb10",
   "metadata": {
    "papermill": {
     "duration": 0.053501,
     "end_time": "2022-04-14T00:38:49.220141",
     "exception": false,
     "start_time": "2022-04-14T00:38:49.166640",
     "status": "completed"
    },
    "tags": []
   },
   "source": [
    "### Logistic Regression\n",
    "Logistic regression is a statisical model used to handle classification problems. [Logistic regression](https://towardsdatascience.com/logistic-regression-detailed-overview-46c4da4303bc) is a process of modeling the probablity of a discrete outcome given an input variable. In other words it measures the realatoinship between the categorical depedent feature and one of more independent features."
   ]
  },
  {
   "cell_type": "code",
   "execution_count": 22,
   "id": "d2ff95d8",
   "metadata": {
    "execution": {
     "iopub.execute_input": "2022-04-14T00:38:49.347413Z",
     "iopub.status.busy": "2022-04-14T00:38:49.346334Z",
     "iopub.status.idle": "2022-04-14T00:38:49.349846Z",
     "shell.execute_reply": "2022-04-14T00:38:49.350582Z",
     "shell.execute_reply.started": "2022-04-14T00:37:53.374618Z"
    },
    "papermill": {
     "duration": 0.07496,
     "end_time": "2022-04-14T00:38:49.350782",
     "exception": false,
     "start_time": "2022-04-14T00:38:49.275822",
     "status": "completed"
    },
    "tags": []
   },
   "outputs": [],
   "source": [
    "# Logistic Regression\n",
    "\n",
    "train_df['Survived'] = train_df['Survived'].astype(np.int64)\n",
    "\n",
    "#logreg = LogisticRegression()\n",
    "#logreg.fit(X_train, Y_train)\n",
    "#Y_pred = logreg.predict(X_test)\n",
    "#acc_log = round(logreg.score(X_train, Y_train) * 100, 2)\n",
    "#acc_log"
   ]
  },
  {
   "cell_type": "markdown",
   "id": "40436a1d",
   "metadata": {
    "papermill": {
     "duration": 0.057595,
     "end_time": "2022-04-14T00:38:49.475891",
     "exception": false,
     "start_time": "2022-04-14T00:38:49.418296",
     "status": "completed"
    },
    "tags": []
   },
   "source": []
  },
  {
   "cell_type": "markdown",
   "id": "7a003082",
   "metadata": {
    "papermill": {
     "duration": 0.055624,
     "end_time": "2022-04-14T00:38:49.588417",
     "exception": false,
     "start_time": "2022-04-14T00:38:49.532793",
     "status": "completed"
    },
    "tags": []
   },
   "source": [
    "### Decision Tree\n",
    "[Decision Trees](https://scikit-learn.org/stable/modules/tree.html) are a non-parametric surpervised learning method used for classifications and regression.The goal is to use a tree like model to evaluate decisions and their possible outcomes including things such as probablity, cost, and other relavent features. Decision tree models "
   ]
  },
  {
   "cell_type": "code",
   "execution_count": 23,
   "id": "9fd99e75",
   "metadata": {
    "execution": {
     "iopub.execute_input": "2022-04-14T00:38:49.700675Z",
     "iopub.status.busy": "2022-04-14T00:38:49.699658Z",
     "iopub.status.idle": "2022-04-14T00:38:49.704072Z",
     "shell.execute_reply": "2022-04-14T00:38:49.703524Z",
     "shell.execute_reply.started": "2022-04-14T00:34:16.037092Z"
    },
    "papermill": {
     "duration": 0.061721,
     "end_time": "2022-04-14T00:38:49.704219",
     "exception": false,
     "start_time": "2022-04-14T00:38:49.642498",
     "status": "completed"
    },
    "tags": []
   },
   "outputs": [],
   "source": [
    "# Decision Tree\n",
    "\n",
    "#decision_tree = DecisionTreeClassifier()\n",
    "#decision_tree.fit(X_train, Y_train)\n",
    "#Y_pred = decision_tree.predict(X_test)\n",
    "#acc_decision_tree = round(decision_tree.score(X_train, Y_train) * 100, 2)\n",
    "#acc_decision_tree"
   ]
  },
  {
   "cell_type": "markdown",
   "id": "5b557337",
   "metadata": {
    "papermill": {
     "duration": 0.056266,
     "end_time": "2022-04-14T00:38:49.814690",
     "exception": false,
     "start_time": "2022-04-14T00:38:49.758424",
     "status": "completed"
    },
    "tags": []
   },
   "source": [
    "### Random Forest\n"
   ]
  },
  {
   "cell_type": "code",
   "execution_count": 24,
   "id": "9eeaf83c",
   "metadata": {
    "execution": {
     "iopub.execute_input": "2022-04-14T00:38:49.928500Z",
     "iopub.status.busy": "2022-04-14T00:38:49.927793Z",
     "iopub.status.idle": "2022-04-14T00:38:49.929798Z",
     "shell.execute_reply": "2022-04-14T00:38:49.930297Z",
     "shell.execute_reply.started": "2022-04-14T00:34:16.054884Z"
    },
    "papermill": {
     "duration": 0.061682,
     "end_time": "2022-04-14T00:38:49.930487",
     "exception": false,
     "start_time": "2022-04-14T00:38:49.868805",
     "status": "completed"
    },
    "tags": []
   },
   "outputs": [],
   "source": [
    "# Random Forest\n",
    "\n",
    "#random_forest = RandomForestClassifier(n_estimators=100)\n",
    "#random_forest.fit(X_train, Y_train)\n",
    "#Y_pred = random_forest.predict(X_test)\n",
    "#random_forest.score(X_train, Y_train)\n",
    "#acc_random_forest = round(random_forest.score(X_train, Y_train) * 100, 2)\n",
    "#acc_random_forest"
   ]
  },
  {
   "cell_type": "markdown",
   "id": "135be2e7",
   "metadata": {
    "papermill": {
     "duration": 0.055028,
     "end_time": "2022-04-14T00:38:50.042080",
     "exception": false,
     "start_time": "2022-04-14T00:38:49.987052",
     "status": "completed"
    },
    "tags": []
   },
   "source": [
    "### K-Nearest Neighbor"
   ]
  },
  {
   "cell_type": "code",
   "execution_count": 25,
   "id": "6ba9d6e3",
   "metadata": {
    "execution": {
     "iopub.execute_input": "2022-04-14T00:38:50.155543Z",
     "iopub.status.busy": "2022-04-14T00:38:50.154388Z",
     "iopub.status.idle": "2022-04-14T00:38:50.159146Z",
     "shell.execute_reply": "2022-04-14T00:38:50.158476Z",
     "shell.execute_reply.started": "2022-04-14T00:34:16.069329Z"
    },
    "papermill": {
     "duration": 0.062536,
     "end_time": "2022-04-14T00:38:50.159313",
     "exception": false,
     "start_time": "2022-04-14T00:38:50.096777",
     "status": "completed"
    },
    "tags": []
   },
   "outputs": [],
   "source": [
    "#knn = KNeighborsClassifier(n_neighbors = 3)\n",
    "#knn.fit(X_train, Y_train)\n",
    "#Y_pred = knn.predict(X_test)\n",
    "#acc_knn = round(knn.score(X_train, Y_train) * 100, 2)\n",
    "#acc_knn"
   ]
  },
  {
   "cell_type": "markdown",
   "id": "1d5142fd",
   "metadata": {
    "papermill": {
     "duration": 0.053602,
     "end_time": "2022-04-14T00:38:50.266867",
     "exception": false,
     "start_time": "2022-04-14T00:38:50.213265",
     "status": "completed"
    },
    "tags": []
   },
   "source": [
    "# Model Evaluation\n"
   ]
  },
  {
   "cell_type": "code",
   "execution_count": 26,
   "id": "9fb8deaf",
   "metadata": {
    "execution": {
     "iopub.execute_input": "2022-04-14T00:38:50.381700Z",
     "iopub.status.busy": "2022-04-14T00:38:50.380958Z",
     "iopub.status.idle": "2022-04-14T00:38:50.384279Z",
     "shell.execute_reply": "2022-04-14T00:38:50.383703Z",
     "shell.execute_reply.started": "2022-04-14T00:34:16.085277Z"
    },
    "papermill": {
     "duration": 0.062913,
     "end_time": "2022-04-14T00:38:50.384434",
     "exception": false,
     "start_time": "2022-04-14T00:38:50.321521",
     "status": "completed"
    },
    "tags": []
   },
   "outputs": [],
   "source": [
    "#models = pd.DataFrame({\n",
    "   # 'Model': ['KNN', 'Logistic Regression', 'Random Forest',  'Decision Tree'],\n",
    "    #'Score': [ acc_knn, acc_log, acc_random_forest, acc_decision_tree]})\n",
    "#models.sort_values(by='Score', ascending=False)"
   ]
  }
 ],
 "metadata": {
  "kernelspec": {
   "display_name": "Python 3",
   "language": "python",
   "name": "python3"
  },
  "language_info": {
   "codemirror_mode": {
    "name": "ipython",
    "version": 3
   },
   "file_extension": ".py",
   "mimetype": "text/x-python",
   "name": "python",
   "nbconvert_exporter": "python",
   "pygments_lexer": "ipython3",
   "version": "3.7.12"
  },
  "papermill": {
   "default_parameters": {},
   "duration": 22.795564,
   "end_time": "2022-04-14T00:38:51.251720",
   "environment_variables": {},
   "exception": null,
   "input_path": "__notebook__.ipynb",
   "output_path": "__notebook__.ipynb",
   "parameters": {},
   "start_time": "2022-04-14T00:38:28.456156",
   "version": "2.3.3"
  }
 },
 "nbformat": 4,
 "nbformat_minor": 5
}
